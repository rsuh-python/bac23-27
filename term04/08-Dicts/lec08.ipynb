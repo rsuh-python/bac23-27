{
  "nbformat": 4,
  "nbformat_minor": 0,
  "metadata": {
    "colab": {
      "provenance": []
    },
    "kernelspec": {
      "name": "python3",
      "display_name": "Python 3"
    },
    "language_info": {
      "name": "python"
    }
  },
  "cells": [
    {
      "cell_type": "markdown",
      "source": [
        "# **Словари**"
      ],
      "metadata": {
        "id": "MfcNsnQ7Wxf7"
      }
    },
    {
      "cell_type": "markdown",
      "source": [
        "## *Краткая справка*"
      ],
      "metadata": {
        "id": "08nUotmtdAuE"
      }
    },
    {
      "cell_type": "markdown",
      "source": [
        "Словари отчасти похожи на множества, а отчасти на списки, можно сказать, что это результат скрещивания множества и списка.\n",
        "\n",
        "У словаря есть *ключи* (множество: все ключи уникальны и неизменяемы) и *значения* (список: значения могут повторяться, тип любой), он состоит из двух частей.\n",
        "\n",
        "Ключи словаря работают похоже, как индексы списка, но могут быть любыми неизменяемыми объектами: числами, строками, кортежами. У ключей словаря такие же свойства, как у множества: они должны быть неизменяемыми, уникальными, их порядок не определен (начиная с версии питона 3.7 гарантируется порядок по времени добавления).\n",
        "\n",
        "Значения могут быть любыми объектами вообще. Как и список, словарь может включать в качестве значений другие словари, списки и вообще все, что угодно.\n",
        "\n",
        "С точки зрения признаков словарь называется mapping type. По нему можно итерироваться, его можно изменять по частям. Словарь не может быть элементом множества: он изменяемый.\n",
        "\n"
      ],
      "metadata": {
        "id": "zreAcsI4W3lZ"
      }
    },
    {
      "cell_type": "markdown",
      "source": [
        "## *Как задавать словари:*\n",
        "\n",
        "1) Явно в коде по схеме `{ключ1: значение, ключ2: значение, ...}`:"
      ],
      "metadata": {
        "id": "AgCuxHaCYPut"
      }
    },
    {
      "cell_type": "code",
      "execution_count": null,
      "metadata": {
        "id": "UtDbmrDPWt7e",
        "colab": {
          "base_uri": "https://localhost:8080/"
        },
        "outputId": "248e6742-3cea-43d5-e963-119c5a69a60f"
      },
      "outputs": [
        {
          "output_type": "execute_result",
          "data": {
            "text/plain": [
              "{'sky': 'небо', 'earth': 'земля'}"
            ]
          },
          "metadata": {},
          "execution_count": 5
        }
      ],
      "source": [
        "my_dict = {'sky': 'небо', 'earth': 'земля'}\n",
        "my_dict"
      ]
    },
    {
      "cell_type": "markdown",
      "source": [
        "2) Преобразованием из списка кортежей по схеме `[(ключ1, значение), (ключ2, значение), ...]`:"
      ],
      "metadata": {
        "id": "vqBkNeEbYhYV"
      }
    },
    {
      "cell_type": "code",
      "source": [
        "list_of_tuples = [('sky', 'небо'), ('earth', 'земля')]\n",
        "my_dict_2 = dict(list_of_tuples)\n",
        "my_dict_2"
      ],
      "metadata": {
        "id": "mH93X4JrYg-E",
        "collapsed": true,
        "colab": {
          "base_uri": "https://localhost:8080/"
        },
        "outputId": "725f5235-160d-417a-d98c-48f5bdd199d2"
      },
      "execution_count": null,
      "outputs": [
        {
          "output_type": "execute_result",
          "data": {
            "text/plain": [
              "{'sky': 'небо', 'earth': 'земля'}"
            ]
          },
          "metadata": {},
          "execution_count": 6
        }
      ]
    },
    {
      "cell_type": "markdown",
      "source": [
        "3) Преобразованием из объектов, которые возвращают функции `zip` и `enumerate` (они как раз возвращают списки кортежей)\n",
        " * функция `zip` берет два (может больше) списка и сопоставляет их элементы парами по индексам"
      ],
      "metadata": {
        "id": "IKKTlzx0Y-wr"
      }
    },
    {
      "cell_type": "code",
      "source": [
        "eng = ['sky', 'earth']\n",
        "rus = ['небо', 'земля']\n",
        "my_dict_31 = dict(zip(eng, rus))\n",
        "my_dict_31"
      ],
      "metadata": {
        "id": "qb-BdP9HYxGu",
        "colab": {
          "base_uri": "https://localhost:8080/"
        },
        "outputId": "1ab17bf0-eebf-4395-fa6e-5b93b87cc8ed"
      },
      "execution_count": null,
      "outputs": [
        {
          "output_type": "execute_result",
          "data": {
            "text/plain": [
              "{'sky': 'небо', 'earth': 'земля'}"
            ]
          },
          "metadata": {},
          "execution_count": 9
        }
      ]
    },
    {
      "cell_type": "markdown",
      "source": [
        "Если списки разной длины, хвост более длинного отсекается."
      ],
      "metadata": {
        "id": "Ks7JNTmFa-lc"
      }
    },
    {
      "cell_type": "code",
      "source": [
        "eng = ['sky', 'earth', 'sun']\n",
        "rus = ['небо', 'земля', 7]\n",
        "my_dict_32 = dict(zip(eng, rus))\n",
        "# что выведется?\n",
        "my_dict_32"
      ],
      "metadata": {
        "id": "lHSc8jT0bCc7",
        "colab": {
          "base_uri": "https://localhost:8080/"
        },
        "outputId": "70dbde9c-5ae1-4706-e2e3-8408c0b6405b"
      },
      "execution_count": null,
      "outputs": [
        {
          "output_type": "execute_result",
          "data": {
            "text/plain": [
              "{'sky': 'небо', 'earth': 'земля', 'sun': 7}"
            ]
          },
          "metadata": {},
          "execution_count": 11
        }
      ]
    },
    {
      "cell_type": "markdown",
      "source": [
        "Функция `enumerate` просто нумерует элементы в списке с 0. Иногда бывает очень полезной."
      ],
      "metadata": {
        "id": "N8cmrJknbJJY"
      }
    },
    {
      "cell_type": "code",
      "source": [
        "months = ['jan', 'feb', 'mar']\n",
        "\n",
        "# посмотрим внутри, что делает функция enumerate\n",
        "print(list(enumerate(months)))\n",
        "# знакомая картинка, правда?\n",
        "\n",
        "my_dict_32 = dict(enumerate(months))\n",
        "my_dict_32"
      ],
      "metadata": {
        "id": "3koKJGIkZ_iO",
        "colab": {
          "base_uri": "https://localhost:8080/"
        },
        "outputId": "6226a1d0-741b-4022-df3a-df7f60fdd768"
      },
      "execution_count": null,
      "outputs": [
        {
          "output_type": "stream",
          "name": "stdout",
          "text": [
            "[(0, 'jan'), (1, 'feb'), (2, 'mar')]\n"
          ]
        },
        {
          "output_type": "execute_result",
          "data": {
            "text/plain": [
              "{0: 'jan', 1: 'feb', 2: 'mar'}"
            ]
          },
          "metadata": {},
          "execution_count": 13
        }
      ]
    },
    {
      "cell_type": "markdown",
      "source": [
        "4) dict comprehension (аналог генератора):"
      ],
      "metadata": {
        "id": "JXdx-ZrIauNp"
      }
    },
    {
      "cell_type": "code",
      "source": [
        "my_dict_4 = {x: x ** 2 for x in range(10)}\n",
        "# что он соберет?\n",
        "my_dict_4"
      ],
      "metadata": {
        "id": "jMgU8UN1b862",
        "colab": {
          "base_uri": "https://localhost:8080/"
        },
        "outputId": "46ddbf5e-97bf-4dc6-96d9-d22591022d58"
      },
      "execution_count": null,
      "outputs": [
        {
          "output_type": "execute_result",
          "data": {
            "text/plain": [
              "{0: 0, 1: 1, 2: 4, 3: 9, 4: 16, 5: 25, 6: 36, 7: 49, 8: 64, 9: 81}"
            ]
          },
          "metadata": {},
          "execution_count": 14
        }
      ]
    },
    {
      "cell_type": "markdown",
      "source": [
        "5) Можно собрать словарь из списка специальным методом класса dict: `dict.fromkeys()`"
      ],
      "metadata": {
        "id": "W3XBALh2cLCu"
      }
    },
    {
      "cell_type": "code",
      "source": [
        "some_list = list(range(4))\n",
        "my_dict_5 = dict.fromkeys(some_list)\n",
        "my_dict_5[3] = 'sobaka'\n",
        "my_dict_5"
      ],
      "metadata": {
        "id": "y2Gd92jkcaUU",
        "colab": {
          "base_uri": "https://localhost:8080/"
        },
        "outputId": "f7120077-70f7-4eeb-c170-67291bbb5b16"
      },
      "execution_count": null,
      "outputs": [
        {
          "output_type": "execute_result",
          "data": {
            "text/plain": [
              "{0: None, 1: None, 2: None, 3: 'sobaka'}"
            ]
          },
          "metadata": {},
          "execution_count": 18
        }
      ]
    },
    {
      "cell_type": "code",
      "source": [
        "a = [1, 2, 3]\n",
        "b = a.copy()\n",
        "b"
      ],
      "metadata": {
        "colab": {
          "base_uri": "https://localhost:8080/"
        },
        "id": "EeJ6IFY7mP02",
        "outputId": "0a9e6ad1-53b4-43f6-adae-635cbcc45a64"
      },
      "execution_count": null,
      "outputs": [
        {
          "output_type": "execute_result",
          "data": {
            "text/plain": [
              "[1, 2, 3]"
            ]
          },
          "metadata": {},
          "execution_count": 22
        }
      ]
    },
    {
      "cell_type": "markdown",
      "source": [
        "## *View objects*\n",
        "\n",
        "Итак, мы выяснили, что словарь - сложная структура данных, которая состоит из двух частей: ключей и значений. В связи с этим у словаря есть особые штуки, которые называются view objects (VO). Они не существуют отдельно от словаря, но мы можем попросить питон показать нам отдельно ключи и отдельно значения, например.\n",
        "\n",
        "Такой просмотр организован с помощью методов словаря:\n",
        "\n",
        "`dct.keys()` - покажет все ключи\n",
        "\n",
        "`dct.values()` - покажет все значения\n",
        "\n",
        "`dct.items()` - покажет ключи и значения кортежами.\n",
        "\n",
        "С этими объектами можно работать, но изменять их самих по себе нельзя.\n"
      ],
      "metadata": {
        "id": "7k-FTym6cvUl"
      }
    },
    {
      "cell_type": "markdown",
      "source": [
        "Еще приятные особенности VO:\n",
        "\n",
        "1) **Динамические**\n",
        "\n",
        "Если изменить словарь, VO автоматически обновятся:"
      ],
      "metadata": {
        "id": "FJrgkbded0r0"
      }
    },
    {
      "cell_type": "code",
      "source": [
        "station = {'name': 'Altufyevo', 'opened': 1994}\n",
        "print(station.keys())\n",
        "\n",
        "station['line'] = 'Serpukhovsko-Timiryazevskaya'\n",
        "print(station.keys())"
      ],
      "metadata": {
        "id": "W1-BjdrweMTq",
        "colab": {
          "base_uri": "https://localhost:8080/"
        },
        "outputId": "93005fbc-294c-4f25-94df-456774e2c5bd"
      },
      "execution_count": null,
      "outputs": [
        {
          "output_type": "stream",
          "name": "stdout",
          "text": [
            "dict_keys(['name', 'opened'])\n",
            "dict_keys(['name', 'opened', 'line'])\n"
          ]
        }
      ]
    },
    {
      "cell_type": "markdown",
      "source": [
        "2) **Экономия памяти**\n",
        "\n",
        "Не копируют данные, а только ссылаются на оригинал.\n",
        "\n",
        "3) **Итерируемые**\n",
        "\n",
        "Их можно использовать в циклах for, преобразовывать в списки (list(VO)), проверять вхождение (in)."
      ],
      "metadata": {
        "id": "1ijAC3mceLTV"
      }
    },
    {
      "cell_type": "markdown",
      "source": [
        "## *Итерация по словарю*\n",
        "\n",
        "1) Только по его ключам.\n",
        "\n",
        "`for key in my_dict.keys(): ... `"
      ],
      "metadata": {
        "id": "D9EuszOHf3u5"
      }
    },
    {
      "cell_type": "code",
      "source": [
        "# напишем программу, которая печатает все ключи словаря\n",
        "\n",
        "input_dict = {1: 1, 2: 2, 3: 2, 4: 2, 'wait': 7}\n",
        "\n",
        "# код\n",
        "for key in input_dict:\n",
        "    print(key)"
      ],
      "metadata": {
        "id": "ElA3pvi8fttk",
        "colab": {
          "base_uri": "https://localhost:8080/"
        },
        "outputId": "4fedd2a8-4ff1-4aa3-c6f3-45ae0551b662"
      },
      "execution_count": null,
      "outputs": [
        {
          "output_type": "stream",
          "name": "stdout",
          "text": [
            "1\n",
            "2\n",
            "3\n",
            "4\n",
            "wait\n"
          ]
        }
      ]
    },
    {
      "cell_type": "markdown",
      "source": [
        "Но можно и так:\n",
        "\n",
        "`for key in my_dict: ... `\n",
        "\n",
        "Почему?"
      ],
      "metadata": {
        "id": "-CUxFqXqhgHs"
      }
    },
    {
      "cell_type": "markdown",
      "source": [
        "2) Только по его значениям.\n",
        "\n",
        "` for value in dct.values(): ... `"
      ],
      "metadata": {
        "id": "9Zrlq3aWgJeV"
      }
    },
    {
      "cell_type": "code",
      "source": [
        "# напишем программу, которая печатает все значения словаря\n",
        "\n",
        "input_dict = {1: 1, 2: 2, 3: 2, 4: 2, 'wait': 7}\n",
        "\n",
        "# ваш код\n",
        "for value in input_dict.values():\n",
        "    print(value)"
      ],
      "metadata": {
        "id": "FfDn4gEVh9TS",
        "colab": {
          "base_uri": "https://localhost:8080/"
        },
        "outputId": "1a14cb42-e7a8-4162-f24f-6cd820051aeb"
      },
      "execution_count": null,
      "outputs": [
        {
          "output_type": "stream",
          "name": "stdout",
          "text": [
            "1\n",
            "2\n",
            "2\n",
            "2\n",
            "7\n"
          ]
        }
      ]
    },
    {
      "cell_type": "markdown",
      "source": [
        "3) По всему сразу:\n",
        "\n",
        "` for key, value in dct.items(): ... `"
      ],
      "metadata": {
        "id": "3WmldFKNh9zS"
      }
    },
    {
      "cell_type": "code",
      "source": [
        "# напишем программу, которая печатает все сразу\n",
        "\n",
        "input_dict = {1: 1, 2: 2, 3: 2, 4: 2, 'wait': 7}\n",
        "\n",
        "# ваш код\n",
        "for key, value in input_dict.items():\n",
        "    print(key, value)"
      ],
      "metadata": {
        "id": "04rq-u7riAd8",
        "colab": {
          "base_uri": "https://localhost:8080/"
        },
        "outputId": "43cb3bc3-7004-49ff-e555-7cee72d573f7"
      },
      "execution_count": null,
      "outputs": [
        {
          "output_type": "stream",
          "name": "stdout",
          "text": [
            "1 1\n",
            "2 2\n",
            "3 2\n",
            "4 2\n",
            "wait 7\n"
          ]
        }
      ]
    },
    {
      "cell_type": "markdown",
      "source": [
        "Заметьте, что key и value - просто названия переменных, я могла назвать их i и j, просто по традиции обычно пишут key, value или k, v. В программировании много таких устоявшихся штук, как i в значении индекса, self в значении экземпляра класса и т.п. Они не обязательные, просто так удобно."
      ],
      "metadata": {
        "id": "euCFfVPYiRp_"
      }
    },
    {
      "cell_type": "code",
      "source": [
        "child_nums = list(range(1, 10))\n",
        "child_names = ['Vasya', 'Petya', 'Kolya', 'Sveta', 'Katya', 'Alena', 'Marina', \\\n",
        "               'Serezha', 'Kirill']\n",
        "child_dict = dict(zip(child_nums, child_names))\n",
        "\n",
        "for num, name in child_dict.items():\n",
        "    print(num, name)"
      ],
      "metadata": {
        "id": "VzMLJ6qriaSN",
        "colab": {
          "base_uri": "https://localhost:8080/"
        },
        "outputId": "eab19dbb-4c03-46dc-c101-f40d720f8775"
      },
      "execution_count": null,
      "outputs": [
        {
          "output_type": "stream",
          "name": "stdout",
          "text": [
            "1 Vasya\n",
            "2 Petya\n",
            "3 Kolya\n",
            "4 Sveta\n",
            "5 Katya\n",
            "6 Alena\n",
            "7 Marina\n",
            "8 Serezha\n",
            "9 Kirill\n"
          ]
        }
      ]
    },
    {
      "cell_type": "code",
      "source": [
        "monthslist = ['January', 'February', 'March', 'April', 'May', 'June', 'July', \\\n",
        "              'August', 'September', 'October', 'November', 'December']\n",
        "months = dict(enumerate(monthslist))\n",
        "print('Что-то не очень, да?', months)"
      ],
      "metadata": {
        "id": "4hu9FGJujPtx",
        "colab": {
          "base_uri": "https://localhost:8080/"
        },
        "outputId": "852cd0b7-5605-4672-a9ba-e153ef5e361b"
      },
      "execution_count": null,
      "outputs": [
        {
          "output_type": "stream",
          "name": "stdout",
          "text": [
            "Что-то не очень, да? {0: 'January', 1: 'February', 2: 'March', 3: 'April', 4: 'May', 5: 'June', 6: 'July', 7: 'August', 8: 'September', 9: 'October', 10: 'November', 11: 'December'}\n"
          ]
        }
      ]
    },
    {
      "cell_type": "code",
      "source": [
        "# генератор для всего словаря разом\n",
        "months = {x + 1: y for x, y in enumerate(monthslist)}\n",
        "print('Вот так уже лучше...')\n",
        "for key, value in months.items():\n",
        "  print(f'{value} is number {key}')"
      ],
      "metadata": {
        "id": "BQJfbgqsjYGc",
        "colab": {
          "base_uri": "https://localhost:8080/"
        },
        "outputId": "a0ecb40a-a6a9-4e9f-ab16-d690a05e2520"
      },
      "execution_count": null,
      "outputs": [
        {
          "output_type": "stream",
          "name": "stdout",
          "text": [
            "Вот так уже лучше...\n",
            "January is number 1\n",
            "February is number 2\n",
            "March is number 3\n",
            "April is number 4\n",
            "May is number 5\n",
            "June is number 6\n",
            "July is number 7\n",
            "August is number 8\n",
            "September is number 9\n",
            "October is number 10\n",
            "November is number 11\n",
            "December is number 12\n"
          ]
        }
      ]
    },
    {
      "cell_type": "code",
      "source": [
        "# а можно еще так\n",
        "months = {x + 1: y + 'Ы' for x, y in enumerate(monthslist)}\n",
        "print('Во славу фонеме/аллофону (в зависимости от ваших предпочтений)')\n",
        "for key, value in months.items():\n",
        "  print(f'{value} is number {key}')"
      ],
      "metadata": {
        "id": "eQS8avp3jfrh",
        "colab": {
          "base_uri": "https://localhost:8080/"
        },
        "outputId": "8678e916-2d9b-44d5-fe5e-d8a86191f76a"
      },
      "execution_count": null,
      "outputs": [
        {
          "output_type": "stream",
          "name": "stdout",
          "text": [
            "Во славу фонеме/аллофону (в зависимости от ваших предпочтений)\n",
            "JanuaryЫ is number 1\n",
            "FebruaryЫ is number 2\n",
            "MarchЫ is number 3\n",
            "AprilЫ is number 4\n",
            "MayЫ is number 5\n",
            "JuneЫ is number 6\n",
            "JulyЫ is number 7\n",
            "AugustЫ is number 8\n",
            "SeptemberЫ is number 9\n",
            "OctoberЫ is number 10\n",
            "NovemberЫ is number 11\n",
            "DecemberЫ is number 12\n"
          ]
        }
      ]
    },
    {
      "cell_type": "markdown",
      "source": [
        "## *Что еще можно делать со словарями?*\n",
        "\n",
        "1) Чтобы добавить новый элемент, достаточно выполнить операцию присваивания (=):\n",
        "\n",
        "`weather_issues['rain'] = 'дождь'`"
      ],
      "metadata": {
        "id": "EClEMhdujzLA"
      }
    },
    {
      "cell_type": "code",
      "source": [
        "weather_issues = {'sun': 'солнце', 'snow': 'снег'}\n",
        "print(weather_issues)\n",
        "\n",
        "weather_issues['rain'] = 'дождь'\n",
        "print(weather_issues)\n",
        "\n",
        "# а так можно?\n",
        "weather_issues['rain'] = 'дождичек'\n",
        "print(weather_issues)"
      ],
      "metadata": {
        "id": "HLmMyzy4kLtK",
        "colab": {
          "base_uri": "https://localhost:8080/"
        },
        "outputId": "554e8f64-d4a7-4786-f272-df7eccf2b001"
      },
      "execution_count": null,
      "outputs": [
        {
          "output_type": "stream",
          "name": "stdout",
          "text": [
            "{'sun': 'солнце', 'snow': 'снег'}\n",
            "{'sun': 'солнце', 'snow': 'снег', 'rain': 'дождь'}\n",
            "{'sun': 'солнце', 'snow': 'снег', 'rain': 'дождичек'}\n"
          ]
        }
      ]
    },
    {
      "cell_type": "markdown",
      "source": [
        "2) Чтобы удалить элемент, можно использовать pop():\n",
        "\n",
        "- `dct.pop(key)` - удалит элемент с ключом `key` и вернет ключ `dct`.\n",
        "- `popitem()` - удалит элемент, последним добавленный в словарь (если у вас питон не старше версии 3.7, иначе будете играть в русскую рулетку и удалять случайные элементы), и вернет его в виде кортежа.\n",
        "- `del dct[key]`"
      ],
      "metadata": {
        "id": "J063Q--YkKYu"
      }
    },
    {
      "cell_type": "code",
      "source": [
        "dct = {1: 2, 3: 4}\n",
        "len(dct)"
      ],
      "metadata": {
        "id": "Xk0c6X8Eln0V",
        "colab": {
          "base_uri": "https://localhost:8080/"
        },
        "outputId": "d9a119fb-5ff2-4442-920e-2e27508fdf0c"
      },
      "execution_count": null,
      "outputs": [
        {
          "output_type": "execute_result",
          "data": {
            "text/plain": [
              "2"
            ]
          },
          "metadata": {},
          "execution_count": 41
        }
      ]
    },
    {
      "cell_type": "markdown",
      "source": [
        "Со словарями также умеет работать функция `len()`, которая вернет количество элементов в словаре.\n",
        "\n",
        "Также проверять наличие ключа в словаре можно так же, как во множестве:\n",
        "\n",
        "* `key in dct`\n",
        "* `key not in dct`\n",
        "\n",
        "А метод `dct.update(another_dict)` добавит один словарь в другой, при этом если у них будут одинаковые ключи, то значения в этих ключах перезапишутся:\n",
        "\n",
        "`dct1 = ...`\n",
        "\n",
        "`dct2 = ...`\n",
        "\n",
        "`dct1.update(dct2)`\n",
        "\n",
        "Наконец, если мы пытаемся совершить какую-то операцию с элементом словаря по несуществующему ключу, то питон выдаст ошибку `KeyError`. Как этого избежать? Можно либо проверять `key in dct`, либо использовать метод `get()`:"
      ],
      "metadata": {
        "id": "nMFcansPlmc0"
      }
    },
    {
      "cell_type": "code",
      "source": [
        "dct = {'name': 'Vasya', 'age': 17}\n",
        "print('Name is', dct.get('name'))\n",
        "print('We have no key \"gender\":', dct.get('gender'))"
      ],
      "metadata": {
        "id": "7OrECvnSmeaG",
        "colab": {
          "base_uri": "https://localhost:8080/"
        },
        "outputId": "689a54c8-742a-41bb-e568-0150ad79a242"
      },
      "execution_count": null,
      "outputs": [
        {
          "output_type": "stream",
          "name": "stdout",
          "text": [
            "Name is Vasya\n",
            "We have no key \"gender\": None\n"
          ]
        }
      ]
    },
    {
      "cell_type": "code",
      "source": [
        "dct1 = {'mama': 'Mutter', 'papa': 'Vater'}\n",
        "dct2 = {'mama': 'Mother'}\n",
        "dct1.update(dct2)\n",
        "dct1"
      ],
      "metadata": {
        "colab": {
          "base_uri": "https://localhost:8080/"
        },
        "id": "ZkaoZjv4sorn",
        "outputId": "a8fa7492-87cd-4708-f059-d5e638fe2660"
      },
      "execution_count": null,
      "outputs": [
        {
          "output_type": "execute_result",
          "data": {
            "text/plain": [
              "{'mama': 'Mother', 'papa': 'Vater'}"
            ]
          },
          "metadata": {},
          "execution_count": 48
        }
      ]
    },
    {
      "cell_type": "markdown",
      "source": [
        "## *defaultdict и Counter*"
      ],
      "metadata": {
        "id": "22GvFH8dmzIM"
      }
    },
    {
      "cell_type": "markdown",
      "source": [
        "Существует замечательная библиотека `collections`, разработчики которой подарили нам два чудесных класса:\n",
        "- `defaultdict`: позволяет нам создавать словари с определенным типом данных по умолчанию, например, списком; помимо этого:\n",
        " * если мы решим обратиться к несуществующему ключу, то обычный словарь скажет нам `KeyError`: \"не делай так больше, я не знаю, как с этим работать!\"; defaultdict же просто посмотрит на нас и молча создаст новый item с новым ключом, заполнив его типом данных, который мы указали ему по умолчанию;"
      ],
      "metadata": {
        "id": "51Uau8VC-ZpU"
      }
    },
    {
      "cell_type": "code",
      "source": [
        "from collections import defaultdict, Counter"
      ],
      "metadata": {
        "id": "kxE8Y9l9-blw"
      },
      "execution_count": null,
      "outputs": []
    },
    {
      "cell_type": "code",
      "source": [
        "# демонстрация молчаливого согласия defaultdict (почти) со всем, что мы делаем\n",
        "a = defaultdict(list)\n",
        "print(a)\n",
        "print(False in a['some_key'])\n",
        "print(a)"
      ],
      "metadata": {
        "id": "dVNRd6GTHbrc",
        "colab": {
          "base_uri": "https://localhost:8080/"
        },
        "outputId": "d5062c76-b051-4f20-df16-2631288ced43"
      },
      "execution_count": null,
      "outputs": [
        {
          "output_type": "stream",
          "name": "stdout",
          "text": [
            "defaultdict(<class 'list'>, {})\n",
            "False\n",
            "defaultdict(<class 'list'>, {'some_key': []})\n"
          ]
        }
      ]
    },
    {
      "cell_type": "markdown",
      "source": [
        "- `Counter`: позволяет нам создавать словари для быстрого подсчета элементов коллекций (списки, строки); обладает рядом полезных свойств:\n",
        " * `most_common(n)` — возвращает n самых частых элементов.\n",
        " * `elements()` — возвращает итератор по элементам (с учетом их количества).\n",
        " * арифметические операции `(+, -, &, |)`"
      ],
      "metadata": {
        "id": "XJYI4DdVI3Jq"
      }
    },
    {
      "cell_type": "code",
      "source": [
        "# мы очень захотели посчитать символы в стихотворении Пастернака\n",
        "hamlet = \"\"\"\n",
        "Гул затих. Я вышел на подмостки.\n",
        "Прислонясь к дверному косяку,\n",
        "Я ловлю в далеком отголоске,\n",
        "Что случится на моем веку.\n",
        "На меня наставлен сумрак ночи\n",
        "Тысячью биноклей на оси.\n",
        "Если только можно, Авва Отче,\n",
        "Чашу эту мимо пронеси.\n",
        "Я люблю твой замысел упрямый\n",
        "И играть согласен эту роль.\n",
        "Но сейчас идет другая драма,\n",
        "И на этот раз меня уволь.\n",
        "Но продуман распорядок действий,\n",
        "И неотвратим конец пути.\n",
        "Я один, все тонет в фарисействе.\n",
        "Жизнь прожить — не поле перейти.\n",
        "\"\"\"\n",
        "\n",
        "char_count = Counter(hamlet)\n",
        "print(char_count)\n",
        "\n",
        "# теперь напечатаем топ 10\n",
        "print(char_count.most_common(10))"
      ],
      "metadata": {
        "id": "gz78m5RiI0T_",
        "colab": {
          "base_uri": "https://localhost:8080/"
        },
        "outputId": "59fa71a7-f2ca-40e3-938e-02e58fad2324"
      },
      "execution_count": null,
      "outputs": [
        {
          "output_type": "stream",
          "name": "stdout",
          "text": [
            "Counter({' ': 63, 'о': 37, 'е': 27, 'а': 24, 'т': 24, 'с': 23, 'н': 22, 'и': 20, 'л': 19, '\\n': 17, 'р': 17, 'м': 16, 'в': 15, 'у': 14, 'к': 12, '.': 10, 'д': 10, 'п': 9, 'я': 9, 'ь': 8, 'й': 8, ',': 7, 'ч': 5, 'з': 4, 'Я': 4, 'ы': 4, 'ю': 4, 'г': 4, 'Н': 3, 'э': 3, 'И': 3, 'ш': 2, 'Ч': 2, 'б': 2, 'ж': 2, 'Г': 1, 'х': 1, 'П': 1, 'Т': 1, 'Е': 1, 'А': 1, 'О': 1, 'ц': 1, 'ф': 1, 'Ж': 1, '—': 1})\n",
            "[(' ', 63), ('о', 37), ('е', 27), ('а', 24), ('т', 24), ('с', 23), ('н', 22), ('и', 20), ('л', 19), ('\\n', 17)]\n"
          ]
        }
      ]
    },
    {
      "cell_type": "code",
      "source": [
        "# теперь давайте для того же стихотворения сделаем самую простую токенизацию\n",
        "# (по пробелам) и посчитаем количество слов\n",
        "tokenized_hamlet = hamlet.lower().split()\n",
        "\n",
        "word_count = Counter(tokenized_hamlet)\n",
        "print(word_count.most_common(10))"
      ],
      "metadata": {
        "id": "oaTajiQhJ_ip",
        "colab": {
          "base_uri": "https://localhost:8080/"
        },
        "outputId": "a28917e8-453b-4561-a547-2087d4acb7f4"
      },
      "execution_count": null,
      "outputs": [
        {
          "output_type": "stream",
          "name": "stdout",
          "text": [
            "[('на', 5), ('я', 4), ('и', 3), ('в', 2), ('меня', 2), ('эту', 2), ('но', 2), ('гул', 1), ('затих.', 1), ('вышел', 1)]\n"
          ]
        }
      ]
    },
    {
      "cell_type": "code",
      "source": [
        "# проверим на полученных словарях операции\n",
        "merged = char_count + word_count\n",
        "print(merged)\n",
        "\n",
        "merged = merged - word_count\n",
        "print(merged == char_count)\n",
        "\n",
        "shared = char_count & word_count\n",
        "print(shared)\n",
        "\n",
        "differ = char_count | word_count\n",
        "print(differ)"
      ],
      "metadata": {
        "id": "FB57OGNYK0uE",
        "colab": {
          "base_uri": "https://localhost:8080/"
        },
        "outputId": "f07d612c-2fc8-4b9a-95aa-fee0831c763b"
      },
      "execution_count": null,
      "outputs": [
        {
          "output_type": "stream",
          "name": "stdout",
          "text": [
            "Counter({' ': 63, 'о': 37, 'е': 27, 'а': 24, 'т': 24, 'и': 23, 'с': 23, 'н': 22, 'л': 19, '\\n': 17, 'в': 17, 'р': 17, 'м': 16, 'у': 14, 'к': 13, 'я': 13, '.': 10, 'д': 10, 'п': 9, 'ь': 8, 'й': 8, ',': 7, 'ч': 5, 'на': 5, 'з': 4, 'Я': 4, 'ы': 4, 'ю': 4, 'г': 4, 'Н': 3, 'э': 3, 'И': 3, 'ш': 2, 'Ч': 2, 'б': 2, 'ж': 2, '—': 2, 'меня': 2, 'эту': 2, 'но': 2, 'Г': 1, 'х': 1, 'П': 1, 'Т': 1, 'Е': 1, 'А': 1, 'О': 1, 'ц': 1, 'ф': 1, 'Ж': 1, 'гул': 1, 'затих.': 1, 'вышел': 1, 'подмостки.': 1, 'прислонясь': 1, 'дверному': 1, 'косяку,': 1, 'ловлю': 1, 'далеком': 1, 'отголоске,': 1, 'что': 1, 'случится': 1, 'моем': 1, 'веку.': 1, 'наставлен': 1, 'сумрак': 1, 'ночи': 1, 'тысячью': 1, 'биноклей': 1, 'оси.': 1, 'если': 1, 'только': 1, 'можно,': 1, 'авва': 1, 'отче,': 1, 'чашу': 1, 'мимо': 1, 'пронеси.': 1, 'люблю': 1, 'твой': 1, 'замысел': 1, 'упрямый': 1, 'играть': 1, 'согласен': 1, 'роль.': 1, 'сейчас': 1, 'идет': 1, 'другая': 1, 'драма,': 1, 'этот': 1, 'раз': 1, 'уволь.': 1, 'продуман': 1, 'распорядок': 1, 'действий,': 1, 'неотвратим': 1, 'конец': 1, 'пути.': 1, 'один,': 1, 'все': 1, 'тонет': 1, 'фарисействе.': 1, 'жизнь': 1, 'прожить': 1, 'не': 1, 'поле': 1, 'перейти.': 1})\n",
            "True\n",
            "Counter({'я': 4, 'и': 3, 'в': 2, 'к': 1, '—': 1})\n",
            "Counter({' ': 63, 'о': 37, 'е': 27, 'а': 24, 'т': 24, 'с': 23, 'н': 22, 'и': 20, 'л': 19, '\\n': 17, 'р': 17, 'м': 16, 'в': 15, 'у': 14, 'к': 12, '.': 10, 'д': 10, 'п': 9, 'я': 9, 'ь': 8, 'й': 8, ',': 7, 'ч': 5, 'на': 5, 'з': 4, 'Я': 4, 'ы': 4, 'ю': 4, 'г': 4, 'Н': 3, 'э': 3, 'И': 3, 'ш': 2, 'Ч': 2, 'б': 2, 'ж': 2, 'меня': 2, 'эту': 2, 'но': 2, 'Г': 1, 'х': 1, 'П': 1, 'Т': 1, 'Е': 1, 'А': 1, 'О': 1, 'ц': 1, 'ф': 1, 'Ж': 1, '—': 1, 'гул': 1, 'затих.': 1, 'вышел': 1, 'подмостки.': 1, 'прислонясь': 1, 'дверному': 1, 'косяку,': 1, 'ловлю': 1, 'далеком': 1, 'отголоске,': 1, 'что': 1, 'случится': 1, 'моем': 1, 'веку.': 1, 'наставлен': 1, 'сумрак': 1, 'ночи': 1, 'тысячью': 1, 'биноклей': 1, 'оси.': 1, 'если': 1, 'только': 1, 'можно,': 1, 'авва': 1, 'отче,': 1, 'чашу': 1, 'мимо': 1, 'пронеси.': 1, 'люблю': 1, 'твой': 1, 'замысел': 1, 'упрямый': 1, 'играть': 1, 'согласен': 1, 'роль.': 1, 'сейчас': 1, 'идет': 1, 'другая': 1, 'драма,': 1, 'этот': 1, 'раз': 1, 'уволь.': 1, 'продуман': 1, 'распорядок': 1, 'действий,': 1, 'неотвратим': 1, 'конец': 1, 'пути.': 1, 'один,': 1, 'все': 1, 'тонет': 1, 'фарисействе.': 1, 'жизнь': 1, 'прожить': 1, 'не': 1, 'поле': 1, 'перейти.': 1})\n"
          ]
        }
      ]
    }
  ]
}