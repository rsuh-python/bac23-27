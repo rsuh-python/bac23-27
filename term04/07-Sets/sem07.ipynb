{
 "cells": [
  {
   "cell_type": "markdown",
   "id": "3b4b5b30-796d-460a-a258-977a91cad5c3",
   "metadata": {
    "id": "cFakyF2bOxNh"
   },
   "source": [
    "### Примеры"
   ]
  },
  {
   "cell_type": "markdown",
   "id": "f77ad43d-5f00-4fc9-9434-e202d95880ba",
   "metadata": {
    "id": "SLP2IcB9O0qB"
   },
   "source": [
    "#### Задача 1. \n",
    "\n",
    "Посчитайте количество уникальных слов в тексте. "
   ]
  },
  {
   "cell_type": "code",
   "execution_count": null,
   "id": "48e1f76b-6e00-4629-ac3b-bfaec02588ef",
   "metadata": {
    "id": "M3N3CGhPOufu"
   },
   "outputs": [],
   "source": [
    "# my code here"
   ]
  },
  {
   "cell_type": "markdown",
   "id": "7bb919a4-1a97-4342-ab5b-a9b28017f527",
   "metadata": {
    "id": "2Gjyh6xlO7YS"
   },
   "source": [
    "#### Задача 2. \n",
    "\n",
    "Соберите множество кириллических букв."
   ]
  },
  {
   "cell_type": "code",
   "execution_count": null,
   "id": "abea24ba-223a-48ca-9d13-8437b3c41723",
   "metadata": {
    "id": "JCw-jfrVO_3D"
   },
   "outputs": [],
   "source": [
    "# my code here"
   ]
  },
  {
   "cell_type": "markdown",
   "id": "d7cc6810-137c-4022-9b1c-32ddf73edfdf",
   "metadata": {
    "id": "9Z4XOLG2PBK5"
   },
   "source": [
    "#### Задача 3. \n",
    "\n",
    "Пользователь в цикле по одному вводит какие-то слова, пока не введет \"стоп\". Программа должна сообщать, если слово уже вводилось."
   ]
  },
  {
   "cell_type": "code",
   "execution_count": null,
   "id": "49615176-5548-4491-b948-5ff0a74599a8",
   "metadata": {
    "id": "RbpcoQTcPX1z"
   },
   "outputs": [],
   "source": [
    "# my code here"
   ]
  }
 ],
 "metadata": {
  "kernelspec": {
   "display_name": "Python 3 (ipykernel)",
   "language": "python",
   "name": "python3"
  },
  "language_info": {
   "codemirror_mode": {
    "name": "ipython",
    "version": 3
   },
   "file_extension": ".py",
   "mimetype": "text/x-python",
   "name": "python",
   "nbconvert_exporter": "python",
   "pygments_lexer": "ipython3",
   "version": "3.11.5"
  }
 },
 "nbformat": 4,
 "nbformat_minor": 5
}
