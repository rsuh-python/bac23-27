{
  "nbformat": 4,
  "nbformat_minor": 0,
  "metadata": {
    "colab": {
      "provenance": []
    },
    "kernelspec": {
      "name": "python3",
      "display_name": "Python 3"
    },
    "language_info": {
      "name": "python"
    }
  },
  "cells": [
    {
      "cell_type": "markdown",
      "source": [
        "# **Словари**"
      ],
      "metadata": {
        "id": "MfcNsnQ7Wxf7"
      }
    },
    {
      "cell_type": "markdown",
      "source": [
        "## *Краткая справка*"
      ],
      "metadata": {
        "id": "08nUotmtdAuE"
      }
    },
    {
      "cell_type": "markdown",
      "source": [
        "Словари отчасти похожи на множества, а отчасти на списки, можно сказать, что это результат скрещивания множества и списка.\n",
        "\n",
        "У словаря есть *ключи* (множество: все ключи уникальны и неизменяемы) и *значения* (список: значения могут повторяться, тип любой), он состоит из двух частей.\n",
        "\n",
        "Ключи словаря работают похоже, как индексы списка, но могут быть любыми неизменяемыми объектами: числами, строками, кортежами. У ключей словаря такие же свойства, как у множества: они должны быть неизменяемыми, уникальными, их порядок не определен (начиная с версии питона 3.7 гарантируется порядок по времени добавления).\n",
        "\n",
        "Значения могут быть любыми объектами вообще. Как и список, словарь может включать в качестве значений другие словари, списки и вообще все, что угодно.\n",
        "\n",
        "С точки зрения признаков словарь называется mapping type. По нему можно итерироваться, его можно изменять по частям. Словарь не может быть элементом множества: он изменяемый.\n",
        "\n"
      ],
      "metadata": {
        "id": "zreAcsI4W3lZ"
      }
    },
    {
      "cell_type": "markdown",
      "source": [
        "## *Как задавать словари:*\n",
        "\n",
        "1) Явно в коде:"
      ],
      "metadata": {
        "id": "AgCuxHaCYPut"
      }
    },
    {
      "cell_type": "code",
      "execution_count": null,
      "metadata": {
        "id": "UtDbmrDPWt7e"
      },
      "outputs": [],
      "source": [
        "my_dict = {'sky': 'небо', 'earth': 'земля'}\n",
        "my_dict"
      ]
    },
    {
      "cell_type": "markdown",
      "source": [
        "2) Преобразованием из списка кортежей по схеме (key, value):"
      ],
      "metadata": {
        "id": "vqBkNeEbYhYV"
      }
    },
    {
      "cell_type": "code",
      "source": [
        "list_of_tuples = [('sky', 'небо'), ('earth', 'земля')]\n",
        "my_dict_2 = dict(list_of_tuples)\n",
        "my_dict_2"
      ],
      "metadata": {
        "id": "mH93X4JrYg-E",
        "collapsed": true
      },
      "execution_count": null,
      "outputs": []
    },
    {
      "cell_type": "markdown",
      "source": [
        "3) Преобразованием из объектов, которые возвращают функции zip и enumerate (они как раз возвращают списки кортежей на самом деле):"
      ],
      "metadata": {
        "id": "IKKTlzx0Y-wr"
      }
    },
    {
      "cell_type": "markdown",
      "source": [
        "Функция zip берет два (может больше) списка и сопоставляет их элементы парами по индексам:\n",
        "\n",
        "`a[0] + b[0], a[1] + b[1]...`"
      ],
      "metadata": {
        "id": "m195b3qFazFO"
      }
    },
    {
      "cell_type": "code",
      "source": [
        "eng = ['sky', 'earth']\n",
        "rus = ['небо', 'земля']\n",
        "my_dict_31 = dict(zip(eng, rus))\n",
        "my_dict_31"
      ],
      "metadata": {
        "id": "qb-BdP9HYxGu"
      },
      "execution_count": null,
      "outputs": []
    },
    {
      "cell_type": "markdown",
      "source": [
        "Если списки разной длины, хвост более длинного отсекается."
      ],
      "metadata": {
        "id": "Ks7JNTmFa-lc"
      }
    },
    {
      "cell_type": "code",
      "source": [
        "eng = ['sky', 'earth', 'sun']\n",
        "rus = ['небо', 'земля']\n",
        "my_dict_32 = dict(zip(eng, rus))\n",
        "# что выведется?"
      ],
      "metadata": {
        "id": "lHSc8jT0bCc7"
      },
      "execution_count": null,
      "outputs": []
    },
    {
      "cell_type": "markdown",
      "source": [
        "Функция enumerate просто нумерует элементы в списке с 0. Иногда бывает очень полезной."
      ],
      "metadata": {
        "id": "N8cmrJknbJJY"
      }
    },
    {
      "cell_type": "code",
      "source": [
        "months = ['jan', 'feb', 'mar']\n",
        "\n",
        "# посмотрим внутри, что делает функция enumerate\n",
        "print(list(enumerate(months)))\n",
        "# знакомая картинка, правда?\n",
        "\n",
        "my_dict_32 = dict(enumerate(months))\n",
        "my_dict_32"
      ],
      "metadata": {
        "id": "3koKJGIkZ_iO"
      },
      "execution_count": null,
      "outputs": []
    },
    {
      "cell_type": "markdown",
      "source": [
        "4) dict comprehension (аналог генератора):"
      ],
      "metadata": {
        "id": "JXdx-ZrIauNp"
      }
    },
    {
      "cell_type": "code",
      "source": [
        "my_dict_4 = {x: x ** 2 for x in range(10)}\n",
        "# что он соберет?"
      ],
      "metadata": {
        "id": "jMgU8UN1b862"
      },
      "execution_count": null,
      "outputs": []
    },
    {
      "cell_type": "markdown",
      "source": [
        "5) Можно собрать словарь из списка специальным методом класса dict: `dict.fromkeys()`"
      ],
      "metadata": {
        "id": "W3XBALh2cLCu"
      }
    },
    {
      "cell_type": "code",
      "source": [
        "some_list = list(range(4))\n",
        "my_dict_5 = dict.fromkeys(some_list, 365)\n",
        "my_dict_5"
      ],
      "metadata": {
        "id": "y2Gd92jkcaUU"
      },
      "execution_count": null,
      "outputs": []
    },
    {
      "cell_type": "markdown",
      "source": [
        "## *View objects*\n",
        "\n",
        "Итак, мы выяснили, что словарь - сложная структура данных, которая как бы состоит из двух частей: ключей и значений. В связи с этим у словаря есть особые штуки, которые называются view objects (VO). Они не существуют отдельно от словаря, но мы можем попросить питон показать нам отдельно ключи и отдельно значения, например.\n",
        "\n",
        "Такой просмотр организован с помощью методов словаря:\n",
        "\n",
        "`dict.keys()` - покажет все ключи\n",
        "\n",
        "`dict.values()` - покажет все значения\n",
        "\n",
        "`dict.items()` - покажет ключи и значения кортежами.\n",
        "\n",
        "С этими объектами можно работать, но изменять их самих по себе нельзя.\n"
      ],
      "metadata": {
        "id": "7k-FTym6cvUl"
      }
    },
    {
      "cell_type": "markdown",
      "source": [
        "Еще приятные особенности VO:\n",
        "\n",
        "1) **Динамические**\n",
        "\n",
        "Если изменить словарь, VO автоматически обновятся:"
      ],
      "metadata": {
        "id": "FJrgkbded0r0"
      }
    },
    {
      "cell_type": "code",
      "source": [
        "station = {'name': 'Altufyevo', 'opened': 1994}\n",
        "print(station.keys())\n",
        "\n",
        "station['line'] = 'Serpukhovsko-Timiryazevskaya'\n",
        "print(station.keys())"
      ],
      "metadata": {
        "id": "W1-BjdrweMTq"
      },
      "execution_count": null,
      "outputs": []
    },
    {
      "cell_type": "markdown",
      "source": [
        "2) **Экономия памяти**\n",
        "\n",
        "Не копируют данные, а только ссылаются на оригинал.\n",
        "\n",
        "3) **Итерируемые**\n",
        "\n",
        "Их можно использовать в циклах for, преобразовывать в списки (list(VO)), проверять вхождение (in)."
      ],
      "metadata": {
        "id": "1ijAC3mceLTV"
      }
    },
    {
      "cell_type": "markdown",
      "source": [
        "## *Итерация по словарю*\n",
        "\n",
        "1) Только по его ключам.\n",
        "\n",
        "`for key in my_dict.keys(): ... `"
      ],
      "metadata": {
        "id": "D9EuszOHf3u5"
      }
    },
    {
      "cell_type": "code",
      "source": [
        "# напишем программу, которая печатает все ключи словаря\n",
        "\n",
        "input_dict = {1: 1, 2: 2, 3: 2, 4: 2, 'wait': 7}\n",
        "\n",
        "# код"
      ],
      "metadata": {
        "id": "ElA3pvi8fttk"
      },
      "execution_count": null,
      "outputs": []
    },
    {
      "cell_type": "markdown",
      "source": [
        "Но можно и так:\n",
        "\n",
        "`for key in my_dict: ... `\n",
        "\n",
        "Почему?"
      ],
      "metadata": {
        "id": "-CUxFqXqhgHs"
      }
    },
    {
      "cell_type": "markdown",
      "source": [
        "2) Только по его значениям.\n",
        "\n",
        "` for value in dct.values(): ... `"
      ],
      "metadata": {
        "id": "9Zrlq3aWgJeV"
      }
    },
    {
      "cell_type": "code",
      "source": [
        "# напишем программу, которая печатает все значения словаря\n",
        "\n",
        "input_dict = {1: 1, 2: 2, 3: 2, 4: 2, 'wait': 7}\n",
        "\n",
        "# ваш код"
      ],
      "metadata": {
        "id": "FfDn4gEVh9TS"
      },
      "execution_count": null,
      "outputs": []
    },
    {
      "cell_type": "markdown",
      "source": [
        "3) По всему сразу:\n",
        "\n",
        "` for key, value in dct.items(): ... `"
      ],
      "metadata": {
        "id": "3WmldFKNh9zS"
      }
    },
    {
      "cell_type": "code",
      "source": [
        "# напишем программу, которая печатает все сразу\n",
        "\n",
        "input_dict = {1: 1, 2: 2, 3: 2, 4: 2, 'wait': 7}\n",
        "\n",
        "# ваш код"
      ],
      "metadata": {
        "id": "04rq-u7riAd8"
      },
      "execution_count": null,
      "outputs": []
    },
    {
      "cell_type": "markdown",
      "source": [
        "Заметьте, что key и value - просто названия переменных, я могла назвать их i и j, просто по традиции обычно пишут key, value или k, v. В программировании много таких устоявшихся штук, как i в значении индекса, self в значении экземпляра класса и т.п. Они не обязательные, просто так удобно."
      ],
      "metadata": {
        "id": "euCFfVPYiRp_"
      }
    },
    {
      "cell_type": "code",
      "source": [
        "child_nums = list(range(1, 10))\n",
        "child_names = ['Vasya', 'Petya', 'Kolya', 'Sveta', 'Katya', 'Alena', 'Marina', \\\n",
        "               'Serezha', 'Kirill']\n",
        "child_dict = dict(zip(child_nums, child_names))\n",
        "\n",
        "for num, name in child_dict.items():\n",
        "    print(num, name)"
      ],
      "metadata": {
        "id": "VzMLJ6qriaSN"
      },
      "execution_count": null,
      "outputs": []
    },
    {
      "cell_type": "code",
      "source": [
        "monthslist = ['January', 'February', 'March', 'April', 'May', 'June', 'July', \\\n",
        "              'August', 'September', 'October', 'November', 'December']\n",
        "months = dict(enumerate(monthslist))\n",
        "print('Что-то не очень, да?', months)"
      ],
      "metadata": {
        "id": "4hu9FGJujPtx"
      },
      "execution_count": null,
      "outputs": []
    },
    {
      "cell_type": "code",
      "source": [
        "# генератор для всего словаря разом\n",
        "months = {x + 1: y for x, y in enumerate(monthslist)}\n",
        "print('Вот так уже лучше...')\n",
        "for key, value in months.items():\n",
        "  print(f'{value} is number {key}')"
      ],
      "metadata": {
        "id": "BQJfbgqsjYGc"
      },
      "execution_count": null,
      "outputs": []
    },
    {
      "cell_type": "code",
      "source": [
        "# а можно еще так\n",
        "months = {x + 1: y + 'Ы' for x, y in enumerate(monthslist)}\n",
        "print('Во славу фонеме/аллофону (в зависимости от ваших предпочтений)')\n",
        "for key, value in months.items():\n",
        "  print(f'{value} is number {key}')"
      ],
      "metadata": {
        "id": "eQS8avp3jfrh"
      },
      "execution_count": null,
      "outputs": []
    },
    {
      "cell_type": "markdown",
      "source": [
        "## *Что еще можно делать со словарями?*\n",
        "\n",
        "1) Чтобы добавить новый элемент, достаточно выполнить операцию присваивания (=):\n",
        "\n",
        "`weather_issues['rain'] = 'дождь'`"
      ],
      "metadata": {
        "id": "EClEMhdujzLA"
      }
    },
    {
      "cell_type": "code",
      "source": [
        "weather_issues = {'sun': 'солнце', 'snow': 'снег'}\n",
        "print(weather_issues)\n",
        "\n",
        "weather_issues['rain'] = 'дождь'\n",
        "print(weather_issues)\n",
        "\n",
        "# а так можно?\n",
        "weather_issues['rain'] = 'дождичек'\n",
        "# print(weather_issues)"
      ],
      "metadata": {
        "id": "HLmMyzy4kLtK"
      },
      "execution_count": null,
      "outputs": []
    },
    {
      "cell_type": "markdown",
      "source": [
        "2) Чтобы удалить элемент, можно использовать pop():\n",
        "\n",
        "- `dct.pop(key)` - удалит элемент с ключом `key` и вернет ключ `dct`.\n",
        "- `popitem()` - удалит элемент, последним добавленный в словарь (если у вас питон не старше версии 3.7, иначе будете играть в русскую рулетку и удалять случайные элементы), и вернет его в виде кортежа.\n",
        "- `del dct[key]`"
      ],
      "metadata": {
        "id": "J063Q--YkKYu"
      }
    },
    {
      "cell_type": "code",
      "source": [
        "dct = {1:2, 3: 4}\n",
        "del dct[1]\n",
        "dct"
      ],
      "metadata": {
        "id": "Xk0c6X8Eln0V"
      },
      "execution_count": null,
      "outputs": []
    },
    {
      "cell_type": "markdown",
      "source": [
        "Со словарями также умеет работать функция `len()`, которая вернет количество элементов в словаре.\n",
        "\n",
        "Также проверять наличие ключа в словаре можно так же, как во множестве:\n",
        "\n",
        "`key in dct`\n",
        "`key not in dct`\n",
        "А метод `dct.update()` добавит один словарь в другой, при этом если у них будут одинаковые ключи, то значения в этих ключах перезапишутся:\n",
        "\n",
        "`dct1 = ...`\n",
        "`dct2 = ...`\n",
        "`dct1.update(dct2)`\n",
        "\n",
        "Наконец, если мы пытаемся совершить какую-то операцию с элементом словаря по несуществующему ключу, то питон выдаст ошибку KeyError. Как этого избежать? Можно либо проверять key in dct, либо использовать метод get():"
      ],
      "metadata": {
        "id": "nMFcansPlmc0"
      }
    },
    {
      "cell_type": "code",
      "source": [
        "dct = {'name': 'Vasya', 'age': 17}\n",
        "print('Name is', dct.get('name'))\n",
        "print('We have no key \"gender\":', dct.get('gender'))"
      ],
      "metadata": {
        "id": "7OrECvnSmeaG"
      },
      "execution_count": null,
      "outputs": []
    },
    {
      "cell_type": "markdown",
      "source": [
        "## *defaultdict и Counter*"
      ],
      "metadata": {
        "id": "22GvFH8dmzIM"
      }
    },
    {
      "cell_type": "markdown",
      "source": [
        "Существует замечательная библиотека `collections`, разработчики которой подарили нам два чудесных класса:\n",
        "- `defaultdict`: позволяет нам создавать словари с определенным типом данных по умолчанию, например, списком; помимо этого:\n",
        " * если мы решим обратиться к несуществующему ключу, то обычный словарь скажет нам `KeyError`: \"не делай так больше, я не знаю, как с этим работать!\"; defaultdict же просто посмотрит на нас и молча создаст новый item с новым ключом, заполнив его типом данных, который мы указали ему по умолчанию;"
      ],
      "metadata": {
        "id": "51Uau8VC-ZpU"
      }
    },
    {
      "cell_type": "code",
      "source": [
        "from collections import defaultdict, Counter"
      ],
      "metadata": {
        "id": "kxE8Y9l9-blw"
      },
      "execution_count": 5,
      "outputs": []
    },
    {
      "cell_type": "code",
      "source": [
        "# демонстрация молчаливого согласия defaultdict (почти) со всем, что мы делаем\n",
        "a = defaultdict(list)\n",
        "print(a)\n",
        "print(False in a['some_key'])\n",
        "print(a)"
      ],
      "metadata": {
        "id": "dVNRd6GTHbrc"
      },
      "execution_count": null,
      "outputs": []
    },
    {
      "cell_type": "markdown",
      "source": [
        "- `Counter`: позволяет нам создавать словари для быстрого подсчета элементов коллекций (списки, строки); обладает рядом полезных свойств:\n",
        " * `most_common(n)` — возвращает n самых частых элементов.\n",
        " * `elements()` — возвращает итератор по элементам (с учетом их количества).\n",
        " * арифметические операции `(+, -, &, |)`"
      ],
      "metadata": {
        "id": "XJYI4DdVI3Jq"
      }
    },
    {
      "cell_type": "code",
      "source": [
        "# мы очень захотели посчитать символы в стихотворении Пастернака\n",
        "hamlet = \"\"\"\n",
        "Гул затих. Я вышел на подмостки.\n",
        "Прислонясь к дверному косяку,\n",
        "Я ловлю в далеком отголоске,\n",
        "Что случится на моем веку.\n",
        "На меня наставлен сумрак ночи\n",
        "Тысячью биноклей на оси.\n",
        "Если только можно, Авва Отче,\n",
        "Чашу эту мимо пронеси.\n",
        "Я люблю твой замысел упрямый\n",
        "И играть согласен эту роль.\n",
        "Но сейчас идет другая драма,\n",
        "И на этот раз меня уволь.\n",
        "Но продуман распорядок действий,\n",
        "И неотвратим конец пути.\n",
        "Я один, все тонет в фарисействе.\n",
        "Жизнь прожить — не поле перейти.\n",
        "\"\"\"\n",
        "\n",
        "char_count = Counter(hamlet)\n",
        "print(char_count)\n",
        "\n",
        "# теперь напечатаем топ 10\n",
        "print(char_count.most_common(10))"
      ],
      "metadata": {
        "id": "gz78m5RiI0T_"
      },
      "execution_count": null,
      "outputs": []
    },
    {
      "cell_type": "code",
      "source": [
        "# теперь давайте для того же стихотворения сделаем самую простую токенизацию\n",
        "# (по пробелам) и посчитаем количество слов\n",
        "tokenized_hamlet = hamlet.lower().split()\n",
        "\n",
        "word_count = Counter(tokenized_hamlet)\n",
        "print(word_count.most_common(10))"
      ],
      "metadata": {
        "id": "oaTajiQhJ_ip"
      },
      "execution_count": null,
      "outputs": []
    },
    {
      "cell_type": "code",
      "source": [
        "# проверим на полученных словарях операции\n",
        "merged = char_count + word_count\n",
        "print(merged)\n",
        "\n",
        "merged -= word_count\n",
        "print(merged == char_count)\n",
        "\n",
        "shared = char_count & word_count\n",
        "print(shared)\n",
        "\n",
        "differ = char_count | word_count\n",
        "print(differ)"
      ],
      "metadata": {
        "id": "FB57OGNYK0uE"
      },
      "execution_count": null,
      "outputs": []
    }
  ]
}